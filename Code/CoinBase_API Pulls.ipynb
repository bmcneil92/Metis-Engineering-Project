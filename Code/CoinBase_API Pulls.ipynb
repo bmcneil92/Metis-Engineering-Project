{
 "cells": [
  {
   "cell_type": "code",
   "execution_count": 1,
   "metadata": {},
   "outputs": [],
   "source": [
    "from ratelimit import limits, sleep_and_retry\n",
    "import requests\n",
    "import pandas as pd\n",
    "from sqlalchemy import create_engine\n",
    "from sqlalchemy.ext.declarative import declarative_base\n",
    "from sqlalchemy import *\n",
    "from sqlalchemy.orm import sessionmaker\n",
    "import datetime\n",
    "from datetime import timedelta\n",
    "\n",
    "engine = create_engine(\"sqlite:///crypto_db.db\")\n",
    "\n",
    "yesterday_date = (datetime.datetime.today().date() -timedelta(days=1)).strftime(\"%Y-%m-%d\")\n",
    "today_date = datetime.datetime.today().date().strftime(\"%Y-%m-%d\")"
   ]
  },
  {
   "cell_type": "code",
   "execution_count": null,
   "metadata": {},
   "outputs": [],
   "source": [
    "##Implement Functions for these.\n",
    "\n",
    "from Historic_Crypto import HistoricalData\n",
    "ALGO = HistoricalData('ALGO-USD',3600,'2021-04-27-00-00').retrieve_data()\n",
    "ALGO['coin_id'] = 'ALGO'\n",
    "\n",
    "fil = HistoricalData('FIL-USD',3600,'2021-04-27-00-00').retrieve_data()\n",
    "fil['coin_id'] = 'FIL'\n",
    "\n",
    "\n",
    "ADA = HistoricalData('ADA-USD',3600,'2021-04-27-00-00').retrieve_data()\n",
    "ADA['coin_id'] = 'ADA'\n",
    "\n",
    "GRT = HistoricalData('GRT-USD',3600,'2021-04-27-00-00').retrieve_data()\n",
    "GRT['coin_id'] = 'GRT'\n",
    "\n",
    "LTC = HistoricalData('LTC-USD',3600,'2021-04-27-00-00').retrieve_data()\n",
    "LTC['coin_id'] = 'LTC'\n",
    "\n",
    "MATIC = HistoricalData('MATIC-USD',3600,'2021-04-27-00-00').retrieve_data()\n",
    "MATIC['coin_id'] = 'MATIC'\n",
    "\n",
    "\n",
    "OXT = HistoricalData('OXT-USD',3600,'2021-04-27-00-00').retrieve_data()\n",
    "OXT['coin_id'] = 'OXT'\n",
    "\n",
    "XLM = HistoricalData('XLM-USD',3600,'2021-04-27-00-00').retrieve_data()\n",
    "XLM['coin_id'] = 'XLM'\n",
    "\n",
    "ZRX = HistoricalData('ZRX-USD',3600,'2021-04-27-00-00').retrieve_data()\n",
    "ZRX['coin_id'] = 'ZRX'"
   ]
  },
  {
   "cell_type": "code",
   "execution_count": null,
   "metadata": {},
   "outputs": [],
   "source": [
    "combin_ada = ADA[1:-1][['open', 'coin_id']] \n",
    "combin_algo = ALGO[1:-1][['open', 'coin_id']]\n",
    "comb_fil = fil[1:-1][['open', 'coin_id']]\n",
    "comb_grt = GRT[1:-1][['open', 'coin_id']]\n",
    "comb_ltc = LTC[1:-1][['open', 'coin_id']]\n",
    "comb_matic = MATIC[1:-1][['open', 'coin_id']]\n",
    "comb_oxt = OXT[1:-1][['open', 'coin_id']]\n",
    "comb_xlm = XLM[1:-1][['open', 'coin_id']]\n",
    "comb_zrx = ZRX[1:-1][['open', 'coin_id']]\n",
    "\n",
    "text_concat = pd.concat([combin_ada.reset_index(), combin_algo.reset_index(), comb_fil.reset_index(), \n",
    "                         comb_grt.reset_index(), comb_ltc.reset_index(), comb_matic.reset_index(), comb_oxt.reset_index(), comb_xlm.reset_index(), comb_zrx.reset_index()])\n",
    "\n",
    "\n",
    "text_concat.rename(columns = {'time':'Date_Time', 'open': 'coin_price'}, inplace = True)\n",
    "\n",
    "\n",
    "\n",
    "sqlite_connection = engine.connect()\n",
    "sqlite_table = \"crypto_coin_prices\"\n",
    "text_concat.to_sql(sqlite_table, sqlite_connection, if_exists='append', index=False)\n"
   ]
  },
  {
   "cell_type": "code",
   "execution_count": null,
   "metadata": {},
   "outputs": [],
   "source": [
    "####older functions did not end up using this API.\n",
    "def coinbase_api_pull(coin_id):\n",
    "    today = datetime.datetime.today().date().strftime(\"%Y-%m-%d\")\n",
    "    price = requests.get(f'https://api.coinbase.com/v2/prices/{coin_id}-USD/spot').json()\n",
    "    return (coin_id, price['data']['amount'], today)\n",
    "\n",
    "def coin_list():\n",
    "    engine = create_engine(\"sqlite:///crypto_db.db\")\n",
    "    query = '''select coin_id from crypto_coins '''\n",
    "    df = pd.read_sql(query, engine)\n",
    "    return df  \n",
    "\n",
    "#price = requests.get('https://api.coinbase.com/v2/prices/OXT-USD/spot').json()"
   ]
  },
  {
   "cell_type": "code",
   "execution_count": null,
   "metadata": {},
   "outputs": [],
   "source": []
  },
  {
   "cell_type": "code",
   "execution_count": 1,
   "metadata": {},
   "outputs": [],
   "source": [
    "#DOGE, MIOTA, TRX, XMR done manuallly"
   ]
  },
  {
   "cell_type": "code",
   "execution_count": 8,
   "metadata": {},
   "outputs": [],
   "source": [
    "import pandas as pd\n",
    "df_manual = pd.read_csv('Crytpo_coinPrice_Sheet2.csv')"
   ]
  },
  {
   "cell_type": "code",
   "execution_count": 10,
   "metadata": {},
   "outputs": [],
   "source": [
    "from sqlalchemy import create_engine\n",
    "from sqlalchemy.ext.declarative import declarative_base\n",
    "from sqlalchemy import *\n",
    "from sqlalchemy.orm import sessionmaker\n",
    "engine = create_engine(\"sqlite:///crypto_db.db\")\n",
    "\n",
    "\n",
    "df_manual.rename(columns = {'time':'Date_Time', 'Price_USD': 'coin_price', 'Coin_ID': 'coin_id'}, inplace = True)\n",
    "df_manual\n",
    "sqlite_connection = engine.connect()\n",
    "sqlite_table = \"crypto_coin_prices\"\n",
    "#df_manual.to_sql(sqlite_table, sqlite_connection, if_exists='append', index=False)\n"
   ]
  }
 ],
 "metadata": {
  "kernelspec": {
   "display_name": "Python 3",
   "language": "python",
   "name": "python3"
  },
  "language_info": {
   "codemirror_mode": {
    "name": "ipython",
    "version": 3
   },
   "file_extension": ".py",
   "mimetype": "text/x-python",
   "name": "python",
   "nbconvert_exporter": "python",
   "pygments_lexer": "ipython3",
   "version": "3.8.5"
  }
 },
 "nbformat": 4,
 "nbformat_minor": 4
}
